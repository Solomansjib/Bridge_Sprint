{
  "nbformat": 4,
  "nbformat_minor": 5,
  "metadata": {
    "kernelspec": {
      "display_name": "Python 3",
      "language": "python",
      "name": "python3"
    },
    "language_info": {
      "codemirror_mode": {
        "name": "ipython",
        "version": 3
      },
      "file_extension": ".py",
      "mimetype": "text/x-python",
      "name": "python",
      "nbconvert_exporter": "python",
      "pygments_lexer": "ipython3",
      "version": "3.8.8"
    },
    "colab": {
      "name": "Bridges.ipynb",
      "provenance": [],
      "collapsed_sections": []
    }
  },
  "cells": [
    {
      "cell_type": "markdown",
      "metadata": {
        "id": "qqKZ8HQLi2AV"
      },
      "source": [
        "\n",
        "\n",
        "\n",
        "## Installed different packages required for our project.\n",
        "\n",
        "\n",
        "---\n",
        "\n",
        "\n",
        "\n"
      ],
      "id": "qqKZ8HQLi2AV"
    },
    {
      "cell_type": "code",
      "metadata": {
        "colab": {
          "base_uri": "https://localhost:8080/",
          "height": 1000
        },
        "id": "8d273686",
        "outputId": "0583b7e5-e41a-4182-c827-be1c852f9528"
      },
      "source": [
        "!pip install category_encoders\n",
        "!pip install pdpbox\n",
        "!pip install shap"
      ],
      "id": "8d273686",
      "execution_count": 2,
      "outputs": [
        {
          "output_type": "stream",
          "name": "stdout",
          "text": [
            "Collecting category_encoders\n",
            "  Downloading category_encoders-2.3.0-py2.py3-none-any.whl (82 kB)\n",
            "\u001b[?25l\r\u001b[K     |████                            | 10 kB 24.6 MB/s eta 0:00:01\r\u001b[K     |████████                        | 20 kB 28.3 MB/s eta 0:00:01\r\u001b[K     |████████████                    | 30 kB 12.5 MB/s eta 0:00:01\r\u001b[K     |████████████████                | 40 kB 9.4 MB/s eta 0:00:01\r\u001b[K     |████████████████████            | 51 kB 5.0 MB/s eta 0:00:01\r\u001b[K     |████████████████████████        | 61 kB 5.4 MB/s eta 0:00:01\r\u001b[K     |████████████████████████████    | 71 kB 5.8 MB/s eta 0:00:01\r\u001b[K     |███████████████████████████████▉| 81 kB 6.5 MB/s eta 0:00:01\r\u001b[K     |████████████████████████████████| 82 kB 393 kB/s \n",
            "\u001b[?25hRequirement already satisfied: numpy>=1.14.0 in /usr/local/lib/python3.7/dist-packages (from category_encoders) (1.19.5)\n",
            "Requirement already satisfied: statsmodels>=0.9.0 in /usr/local/lib/python3.7/dist-packages (from category_encoders) (0.10.2)\n",
            "Requirement already satisfied: scipy>=1.0.0 in /usr/local/lib/python3.7/dist-packages (from category_encoders) (1.4.1)\n",
            "Requirement already satisfied: pandas>=0.21.1 in /usr/local/lib/python3.7/dist-packages (from category_encoders) (1.1.5)\n",
            "Requirement already satisfied: patsy>=0.5.1 in /usr/local/lib/python3.7/dist-packages (from category_encoders) (0.5.2)\n",
            "Requirement already satisfied: scikit-learn>=0.20.0 in /usr/local/lib/python3.7/dist-packages (from category_encoders) (0.22.2.post1)\n",
            "Requirement already satisfied: pytz>=2017.2 in /usr/local/lib/python3.7/dist-packages (from pandas>=0.21.1->category_encoders) (2018.9)\n",
            "Requirement already satisfied: python-dateutil>=2.7.3 in /usr/local/lib/python3.7/dist-packages (from pandas>=0.21.1->category_encoders) (2.8.2)\n",
            "Requirement already satisfied: six in /usr/local/lib/python3.7/dist-packages (from patsy>=0.5.1->category_encoders) (1.15.0)\n",
            "Requirement already satisfied: joblib>=0.11 in /usr/local/lib/python3.7/dist-packages (from scikit-learn>=0.20.0->category_encoders) (1.0.1)\n",
            "Installing collected packages: category-encoders\n",
            "Successfully installed category-encoders-2.3.0\n",
            "Collecting pdpbox\n",
            "  Downloading PDPbox-0.2.1.tar.gz (34.0 MB)\n",
            "\u001b[K     |████████████████████████████████| 34.0 MB 38 kB/s \n",
            "\u001b[?25hRequirement already satisfied: pandas in /usr/local/lib/python3.7/dist-packages (from pdpbox) (1.1.5)\n",
            "Requirement already satisfied: numpy in /usr/local/lib/python3.7/dist-packages (from pdpbox) (1.19.5)\n",
            "Requirement already satisfied: scipy in /usr/local/lib/python3.7/dist-packages (from pdpbox) (1.4.1)\n",
            "Requirement already satisfied: joblib in /usr/local/lib/python3.7/dist-packages (from pdpbox) (1.0.1)\n",
            "Requirement already satisfied: psutil in /usr/local/lib/python3.7/dist-packages (from pdpbox) (5.4.8)\n",
            "Collecting matplotlib==3.1.1\n",
            "  Downloading matplotlib-3.1.1-cp37-cp37m-manylinux1_x86_64.whl (13.1 MB)\n",
            "\u001b[K     |████████████████████████████████| 13.1 MB 6.9 kB/s \n",
            "\u001b[?25hRequirement already satisfied: sklearn in /usr/local/lib/python3.7/dist-packages (from pdpbox) (0.0)\n",
            "Requirement already satisfied: kiwisolver>=1.0.1 in /usr/local/lib/python3.7/dist-packages (from matplotlib==3.1.1->pdpbox) (1.3.2)\n",
            "Requirement already satisfied: cycler>=0.10 in /usr/local/lib/python3.7/dist-packages (from matplotlib==3.1.1->pdpbox) (0.10.0)\n",
            "Requirement already satisfied: pyparsing!=2.0.4,!=2.1.2,!=2.1.6,>=2.0.1 in /usr/local/lib/python3.7/dist-packages (from matplotlib==3.1.1->pdpbox) (2.4.7)\n",
            "Requirement already satisfied: python-dateutil>=2.1 in /usr/local/lib/python3.7/dist-packages (from matplotlib==3.1.1->pdpbox) (2.8.2)\n",
            "Requirement already satisfied: six in /usr/local/lib/python3.7/dist-packages (from cycler>=0.10->matplotlib==3.1.1->pdpbox) (1.15.0)\n",
            "Requirement already satisfied: pytz>=2017.2 in /usr/local/lib/python3.7/dist-packages (from pandas->pdpbox) (2018.9)\n",
            "Requirement already satisfied: scikit-learn in /usr/local/lib/python3.7/dist-packages (from sklearn->pdpbox) (0.22.2.post1)\n",
            "Building wheels for collected packages: pdpbox\n",
            "  Building wheel for pdpbox (setup.py) ... \u001b[?25l\u001b[?25hdone\n",
            "  Created wheel for pdpbox: filename=PDPbox-0.2.1-py3-none-any.whl size=35758225 sha256=331570fbf2b3fb69b1e8065bcecd642d7b27680b927ad58d7144f8202d739e68\n",
            "  Stored in directory: /root/.cache/pip/wheels/f4/d0/1a/b80035625c53131f52906a6fc4dd690d8efd2bf8af6a4015eb\n",
            "Successfully built pdpbox\n",
            "Installing collected packages: matplotlib, pdpbox\n",
            "  Attempting uninstall: matplotlib\n",
            "    Found existing installation: matplotlib 3.2.2\n",
            "    Uninstalling matplotlib-3.2.2:\n",
            "      Successfully uninstalled matplotlib-3.2.2\n",
            "\u001b[31mERROR: pip's dependency resolver does not currently take into account all the packages that are installed. This behaviour is the source of the following dependency conflicts.\n",
            "albumentations 0.1.12 requires imgaug<0.2.7,>=0.2.5, but you have imgaug 0.2.9 which is incompatible.\u001b[0m\n",
            "Successfully installed matplotlib-3.1.1 pdpbox-0.2.1\n"
          ]
        },
        {
          "output_type": "display_data",
          "data": {
            "application/vnd.colab-display-data+json": {
              "pip_warning": {
                "packages": [
                  "matplotlib",
                  "mpl_toolkits"
                ]
              }
            }
          },
          "metadata": {}
        },
        {
          "output_type": "stream",
          "name": "stdout",
          "text": [
            "Collecting shap\n",
            "  Downloading shap-0.40.0.tar.gz (371 kB)\n",
            "\u001b[?25l\r\u001b[K     |▉                               | 10 kB 27.6 MB/s eta 0:00:01\r\u001b[K     |█▊                              | 20 kB 32.1 MB/s eta 0:00:01\r\u001b[K     |██▋                             | 30 kB 11.9 MB/s eta 0:00:01\r\u001b[K     |███▌                            | 40 kB 9.3 MB/s eta 0:00:01\r\u001b[K     |████▍                           | 51 kB 5.1 MB/s eta 0:00:01\r\u001b[K     |█████▎                          | 61 kB 5.3 MB/s eta 0:00:01\r\u001b[K     |██████▏                         | 71 kB 5.8 MB/s eta 0:00:01\r\u001b[K     |███████                         | 81 kB 6.5 MB/s eta 0:00:01\r\u001b[K     |████████                        | 92 kB 6.7 MB/s eta 0:00:01\r\u001b[K     |████████▉                       | 102 kB 5.2 MB/s eta 0:00:01\r\u001b[K     |█████████▊                      | 112 kB 5.2 MB/s eta 0:00:01\r\u001b[K     |██████████▋                     | 122 kB 5.2 MB/s eta 0:00:01\r\u001b[K     |███████████▌                    | 133 kB 5.2 MB/s eta 0:00:01\r\u001b[K     |████████████▍                   | 143 kB 5.2 MB/s eta 0:00:01\r\u001b[K     |█████████████▎                  | 153 kB 5.2 MB/s eta 0:00:01\r\u001b[K     |██████████████                  | 163 kB 5.2 MB/s eta 0:00:01\r\u001b[K     |███████████████                 | 174 kB 5.2 MB/s eta 0:00:01\r\u001b[K     |███████████████▉                | 184 kB 5.2 MB/s eta 0:00:01\r\u001b[K     |████████████████▊               | 194 kB 5.2 MB/s eta 0:00:01\r\u001b[K     |█████████████████▋              | 204 kB 5.2 MB/s eta 0:00:01\r\u001b[K     |██████████████████▌             | 215 kB 5.2 MB/s eta 0:00:01\r\u001b[K     |███████████████████▍            | 225 kB 5.2 MB/s eta 0:00:01\r\u001b[K     |████████████████████▎           | 235 kB 5.2 MB/s eta 0:00:01\r\u001b[K     |█████████████████████▏          | 245 kB 5.2 MB/s eta 0:00:01\r\u001b[K     |██████████████████████          | 256 kB 5.2 MB/s eta 0:00:01\r\u001b[K     |███████████████████████         | 266 kB 5.2 MB/s eta 0:00:01\r\u001b[K     |███████████████████████▉        | 276 kB 5.2 MB/s eta 0:00:01\r\u001b[K     |████████████████████████▊       | 286 kB 5.2 MB/s eta 0:00:01\r\u001b[K     |█████████████████████████▋      | 296 kB 5.2 MB/s eta 0:00:01\r\u001b[K     |██████████████████████████▌     | 307 kB 5.2 MB/s eta 0:00:01\r\u001b[K     |███████████████████████████▎    | 317 kB 5.2 MB/s eta 0:00:01\r\u001b[K     |████████████████████████████▏   | 327 kB 5.2 MB/s eta 0:00:01\r\u001b[K     |█████████████████████████████   | 337 kB 5.2 MB/s eta 0:00:01\r\u001b[K     |██████████████████████████████  | 348 kB 5.2 MB/s eta 0:00:01\r\u001b[K     |██████████████████████████████▉ | 358 kB 5.2 MB/s eta 0:00:01\r\u001b[K     |███████████████████████████████▊| 368 kB 5.2 MB/s eta 0:00:01\r\u001b[K     |████████████████████████████████| 371 kB 5.2 MB/s \n",
            "\u001b[?25h  Installing build dependencies ... \u001b[?25l\u001b[?25hdone\n",
            "  Getting requirements to build wheel ... \u001b[?25l\u001b[?25hdone\n",
            "    Preparing wheel metadata ... \u001b[?25l\u001b[?25hdone\n",
            "Requirement already satisfied: scipy in /usr/local/lib/python3.7/dist-packages (from shap) (1.4.1)\n",
            "Requirement already satisfied: packaging>20.9 in /usr/local/lib/python3.7/dist-packages (from shap) (21.0)\n",
            "Requirement already satisfied: pandas in /usr/local/lib/python3.7/dist-packages (from shap) (1.1.5)\n",
            "Collecting slicer==0.0.7\n",
            "  Downloading slicer-0.0.7-py3-none-any.whl (14 kB)\n",
            "Requirement already satisfied: numba in /usr/local/lib/python3.7/dist-packages (from shap) (0.51.2)\n",
            "Requirement already satisfied: cloudpickle in /usr/local/lib/python3.7/dist-packages (from shap) (1.3.0)\n",
            "Requirement already satisfied: scikit-learn in /usr/local/lib/python3.7/dist-packages (from shap) (0.22.2.post1)\n",
            "Requirement already satisfied: numpy in /usr/local/lib/python3.7/dist-packages (from shap) (1.19.5)\n",
            "Requirement already satisfied: tqdm>4.25.0 in /usr/local/lib/python3.7/dist-packages (from shap) (4.62.3)\n",
            "Requirement already satisfied: pyparsing>=2.0.2 in /usr/local/lib/python3.7/dist-packages (from packaging>20.9->shap) (2.4.7)\n",
            "Requirement already satisfied: setuptools in /usr/local/lib/python3.7/dist-packages (from numba->shap) (57.4.0)\n",
            "Requirement already satisfied: llvmlite<0.35,>=0.34.0.dev0 in /usr/local/lib/python3.7/dist-packages (from numba->shap) (0.34.0)\n",
            "Requirement already satisfied: python-dateutil>=2.7.3 in /usr/local/lib/python3.7/dist-packages (from pandas->shap) (2.8.2)\n",
            "Requirement already satisfied: pytz>=2017.2 in /usr/local/lib/python3.7/dist-packages (from pandas->shap) (2018.9)\n",
            "Requirement already satisfied: six>=1.5 in /usr/local/lib/python3.7/dist-packages (from python-dateutil>=2.7.3->pandas->shap) (1.15.0)\n",
            "Requirement already satisfied: joblib>=0.11 in /usr/local/lib/python3.7/dist-packages (from scikit-learn->shap) (1.0.1)\n",
            "Building wheels for collected packages: shap\n",
            "  Building wheel for shap (PEP 517) ... \u001b[?25l\u001b[?25hdone\n",
            "  Created wheel for shap: filename=shap-0.40.0-cp37-cp37m-linux_x86_64.whl size=509254 sha256=6e615d4b106e9de43fb773bcc73babd77ec585e7548099737464b4d0e647bfcb\n",
            "  Stored in directory: /root/.cache/pip/wheels/ec/35/84/e304841ac4b910bc95fe9a6e5302eb2507b4333728851dcbfb\n",
            "Successfully built shap\n",
            "Installing collected packages: slicer, shap\n",
            "Successfully installed shap-0.40.0 slicer-0.0.7\n"
          ]
        }
      ]
    },
    {
      "cell_type": "markdown",
      "metadata": {
        "id": "KpJcAzaXjISr"
      },
      "source": [
        "## We imported and brought in a multitude of libraries and functions for our project.\n",
        "\n",
        "---\n",
        "\n"
      ],
      "id": "KpJcAzaXjISr"
    },
    {
      "cell_type": "code",
      "metadata": {
        "colab": {
          "base_uri": "https://localhost:8080/"
        },
        "id": "HWvotXwBo83Q",
        "outputId": "37abba02-e123-408b-c878-fcec6c757f1c"
      },
      "source": [
        "import pandas as pd\n",
        "import numpy as np\n",
        "import matplotlib.pyplot as plt\n",
        "from statsmodels.formula.api import ols\n",
        "import seaborn as sns\n",
        "\n",
        "from sklearn.pipeline import make_pipeline\n",
        "from sklearn.impute import SimpleImputer\n",
        "from sklearn.ensemble import RandomForestClassifier, RandomForestRegressor\n",
        "from sklearn.linear_model import LogisticRegression, LinearRegression, Ridge\n",
        "from sklearn.preprocessing import StandardScaler\n",
        "from sklearn.metrics import classification_report, roc_curve, plot_confusion_matrix, plot_roc_curve, mean_absolute_error\n",
        "from sklearn.model_selection import train_test_split\n",
        "from sklearn.model_selection import GridSearchCV, RandomizedSearchCV\n",
        "from sklearn.tree import DecisionTreeRegressor\n",
        "from sklearn.metrics import accuracy_score\n",
        "from sklearn.tree import DecisionTreeClassifier, plot_tree\n",
        "from sklearn.ensemble import GradientBoostingClassifier\n",
        "from sklearn.ensemble import GradientBoostingRegressor\n",
        "\n",
        "from category_encoders import OneHotEncoder, OrdinalEncoder\n",
        "\n",
        "from pdpbox.pdp import pdp_isolate, pdp_plot, pdp_interact, pdp_interact_plot\n",
        "import shap"
      ],
      "id": "HWvotXwBo83Q",
      "execution_count": 3,
      "outputs": [
        {
          "output_type": "stream",
          "name": "stderr",
          "text": [
            "/usr/local/lib/python3.7/dist-packages/statsmodels/tools/_testing.py:19: FutureWarning: pandas.util.testing is deprecated. Use the functions in the public API at pandas.testing instead.\n",
            "  import pandas.util.testing as tm\n"
          ]
        }
      ]
    },
    {
      "cell_type": "markdown",
      "metadata": {
        "id": "xZbMziK3jUcl"
      },
      "source": [
        "##We proceeded to pull our dataframe from google drives.\n",
        "\n",
        "---\n",
        "\n"
      ],
      "id": "xZbMziK3jUcl"
    },
    {
      "cell_type": "code",
      "metadata": {
        "id": "RaBIYR8spb6e",
        "colab": {
          "base_uri": "https://localhost:8080/"
        },
        "outputId": "8acfc1fc-c991-4d84-dac2-6d30bf24fe22"
      },
      "source": [
        "from google.colab import drive\n",
        "drive.mount('/content/gdrive')"
      ],
      "id": "RaBIYR8spb6e",
      "execution_count": 4,
      "outputs": [
        {
          "output_type": "stream",
          "name": "stdout",
          "text": [
            "Mounted at /content/gdrive\n"
          ]
        }
      ]
    },
    {
      "cell_type": "code",
      "metadata": {
        "colab": {
          "base_uri": "https://localhost:8080/"
        },
        "id": "4Babqryz_Kmp",
        "outputId": "e3ab6a37-1292-4fc8-b925-93d0906f14db"
      },
      "source": [
        "%cd /content/gdrive/My Drive/Unit 2\n"
      ],
      "id": "4Babqryz_Kmp",
      "execution_count": 5,
      "outputs": [
        {
          "output_type": "stream",
          "name": "stdout",
          "text": [
            "/content/gdrive/My Drive/Unit 2\n"
          ]
        }
      ]
    },
    {
      "cell_type": "code",
      "metadata": {
        "colab": {
          "base_uri": "https://localhost:8080/"
        },
        "id": "qUKNOllM_MJO",
        "outputId": "f489bdfc-7d48-404d-ea93-7ca9d3076a5c"
      },
      "source": [
        "!ls"
      ],
      "id": "qUKNOllM_MJO",
      "execution_count": 6,
      "outputs": [
        {
          "output_type": "stream",
          "name": "stdout",
          "text": [
            " Dept_Bridges.csv  'NY_Bridges - Sheet1.csv'   pipline.joblib\n"
          ]
        }
      ]
    },
    {
      "cell_type": "code",
      "metadata": {
        "id": "147775c6-446f-436b-97e3-230499fa2063"
      },
      "source": [
        "here = ('NY_Bridges - Sheet1.csv')"
      ],
      "id": "147775c6-446f-436b-97e3-230499fa2063",
      "execution_count": 77,
      "outputs": []
    },
    {
      "cell_type": "markdown",
      "metadata": {
        "id": "7a5xCFdCl1Y4"
      },
      "source": [
        "## We created a function that dropped high cardinality columns and null values and then converted columns to 1's and 0's for use in our pipeline. We also changed our index column to reflect the dates that were inspected\n",
        "\n",
        "---\n",
        "\n"
      ],
      "id": "7a5xCFdCl1Y4"
    },
    {
      "cell_type": "code",
      "metadata": {
        "id": "g3IXfKBD5L8t"
      },
      "source": [
        "\n",
        "def wrangle(filepath):\n",
        "    df = pd.read_csv(filepath,header=0,index_col='Date.Inspected', parse_dates=['Date.Inspected'])\n",
        "    df = df.drop(columns='Manhattan')\n",
        "    df = df.drop(columns='Location')\n",
        "    df = df.drop(columns='YearInspected')\n",
        "    df = df.drop(columns='County')\n",
        "    \n",
        "\n",
        "    df['Condition'] = (df['Condition']>=5)\n",
        "    df['Condition'] = df['Condition'].astype(int)\n",
        "    df['SD.FO.Status'] = (df['SD.FO.Status']=='N')\n",
        "    df['SD.FO.Status'] = (df['SD.FO.Status'].astype(int))\n",
        "    df = df.dropna()\n",
        "    df['AgeAtInspection'] = df['AgeAtInspection'].astype(str).str[0:5].astype(float)\n",
        "    df = df[(df['AgeAtInspection'] >=.01)]\n",
        "    df= df[(df['AgeAtInspection'] < 100)]\n",
        "    \n",
        "    df = df.dropna()\n",
        "    return df"
      ],
      "id": "g3IXfKBD5L8t",
      "execution_count": 80,
      "outputs": []
    },
    {
      "cell_type": "code",
      "metadata": {
        "id": "sBWfFo3g5utd"
      },
      "source": [
        "df = wrangle(here)"
      ],
      "id": "sBWfFo3g5utd",
      "execution_count": 81,
      "outputs": []
    },
    {
      "cell_type": "markdown",
      "metadata": {
        "id": "rkO_58_FpN0r"
      },
      "source": [
        "## I then proceeded to do some data exploration. \n",
        "\n",
        "---\n",
        "\n"
      ],
      "id": "rkO_58_FpN0r"
    },
    {
      "cell_type": "code",
      "metadata": {
        "id": "d1256d3c-a439-479a-b432-66e5386b7247",
        "colab": {
          "base_uri": "https://localhost:8080/",
          "height": 294
        },
        "outputId": "45ee1886-8bcd-402f-bfaa-03a036995de4"
      },
      "source": [
        "df.describe()"
      ],
      "id": "d1256d3c-a439-479a-b432-66e5386b7247",
      "execution_count": 82,
      "outputs": [
        {
          "output_type": "execute_result",
          "data": {
            "text/html": [
              "<div>\n",
              "<style scoped>\n",
              "    .dataframe tbody tr th:only-of-type {\n",
              "        vertical-align: middle;\n",
              "    }\n",
              "\n",
              "    .dataframe tbody tr th {\n",
              "        vertical-align: top;\n",
              "    }\n",
              "\n",
              "    .dataframe thead th {\n",
              "        text-align: right;\n",
              "    }\n",
              "</style>\n",
              "<table border=\"1\" class=\"dataframe\">\n",
              "  <thead>\n",
              "    <tr style=\"text-align: right;\">\n",
              "      <th></th>\n",
              "      <th>Built</th>\n",
              "      <th>SD.FO.Status</th>\n",
              "      <th>Condition</th>\n",
              "      <th>AgeAtInspection</th>\n",
              "    </tr>\n",
              "  </thead>\n",
              "  <tbody>\n",
              "    <tr>\n",
              "      <th>count</th>\n",
              "      <td>16784.000000</td>\n",
              "      <td>16784.000000</td>\n",
              "      <td>16784.000000</td>\n",
              "      <td>16784.000000</td>\n",
              "    </tr>\n",
              "    <tr>\n",
              "      <th>mean</th>\n",
              "      <td>1970.404552</td>\n",
              "      <td>0.638704</td>\n",
              "      <td>0.647104</td>\n",
              "      <td>44.703398</td>\n",
              "    </tr>\n",
              "    <tr>\n",
              "      <th>std</th>\n",
              "      <td>24.778525</td>\n",
              "      <td>0.480391</td>\n",
              "      <td>0.477885</td>\n",
              "      <td>24.791501</td>\n",
              "    </tr>\n",
              "    <tr>\n",
              "      <th>min</th>\n",
              "      <td>1900.000000</td>\n",
              "      <td>0.000000</td>\n",
              "      <td>0.000000</td>\n",
              "      <td>0.216000</td>\n",
              "    </tr>\n",
              "    <tr>\n",
              "      <th>25%</th>\n",
              "      <td>1954.000000</td>\n",
              "      <td>0.000000</td>\n",
              "      <td>0.000000</td>\n",
              "      <td>23.470000</td>\n",
              "    </tr>\n",
              "    <tr>\n",
              "      <th>50%</th>\n",
              "      <td>1969.000000</td>\n",
              "      <td>1.000000</td>\n",
              "      <td>1.000000</td>\n",
              "      <td>46.260000</td>\n",
              "    </tr>\n",
              "    <tr>\n",
              "      <th>75%</th>\n",
              "      <td>1991.000000</td>\n",
              "      <td>1.000000</td>\n",
              "      <td>1.000000</td>\n",
              "      <td>61.522500</td>\n",
              "    </tr>\n",
              "    <tr>\n",
              "      <th>max</th>\n",
              "      <td>2015.000000</td>\n",
              "      <td>1.000000</td>\n",
              "      <td>1.000000</td>\n",
              "      <td>99.890000</td>\n",
              "    </tr>\n",
              "  </tbody>\n",
              "</table>\n",
              "</div>"
            ],
            "text/plain": [
              "              Built  SD.FO.Status     Condition  AgeAtInspection\n",
              "count  16784.000000  16784.000000  16784.000000     16784.000000\n",
              "mean    1970.404552      0.638704      0.647104        44.703398\n",
              "std       24.778525      0.480391      0.477885        24.791501\n",
              "min     1900.000000      0.000000      0.000000         0.216000\n",
              "25%     1954.000000      0.000000      0.000000        23.470000\n",
              "50%     1969.000000      1.000000      1.000000        46.260000\n",
              "75%     1991.000000      1.000000      1.000000        61.522500\n",
              "max     2015.000000      1.000000      1.000000        99.890000"
            ]
          },
          "metadata": {},
          "execution_count": 82
        }
      ]
    },
    {
      "cell_type": "code",
      "metadata": {
        "id": "0fb54e31-9b7b-4396-bfea-d09d8514fcc5",
        "colab": {
          "base_uri": "https://localhost:8080/",
          "height": 445
        },
        "outputId": "4ce48111-fbc9-47fc-d916-127e8a2d9ae5"
      },
      "source": [
        "df"
      ],
      "id": "0fb54e31-9b7b-4396-bfea-d09d8514fcc5",
      "execution_count": 60,
      "outputs": [
        {
          "output_type": "execute_result",
          "data": {
            "text/html": [
              "<div>\n",
              "<style scoped>\n",
              "    .dataframe tbody tr th:only-of-type {\n",
              "        vertical-align: middle;\n",
              "    }\n",
              "\n",
              "    .dataframe tbody tr th {\n",
              "        vertical-align: top;\n",
              "    }\n",
              "\n",
              "    .dataframe thead th {\n",
              "        text-align: right;\n",
              "    }\n",
              "</style>\n",
              "<table border=\"1\" class=\"dataframe\">\n",
              "  <thead>\n",
              "    <tr style=\"text-align: right;\">\n",
              "      <th></th>\n",
              "      <th>Municipality</th>\n",
              "      <th>Route</th>\n",
              "      <th>Owner</th>\n",
              "      <th>Built</th>\n",
              "      <th>SD.FO.Status</th>\n",
              "      <th>Condition</th>\n",
              "      <th>AgeAtInspection</th>\n",
              "    </tr>\n",
              "    <tr>\n",
              "      <th>Date.Inspected</th>\n",
              "      <th></th>\n",
              "      <th></th>\n",
              "      <th></th>\n",
              "      <th></th>\n",
              "      <th></th>\n",
              "      <th></th>\n",
              "      <th></th>\n",
              "    </tr>\n",
              "  </thead>\n",
              "  <tbody>\n",
              "    <tr>\n",
              "      <th>2014-09-04</th>\n",
              "      <td>Albany City</td>\n",
              "      <td>5 X</td>\n",
              "      <td>City</td>\n",
              "      <td>1968</td>\n",
              "      <td>1</td>\n",
              "      <td>1</td>\n",
              "      <td>46.67</td>\n",
              "    </tr>\n",
              "    <tr>\n",
              "      <th>2015-10-27</th>\n",
              "      <td>Albany City</td>\n",
              "      <td>9   9 11081025</td>\n",
              "      <td>NYSDOT</td>\n",
              "      <td>1971</td>\n",
              "      <td>1</td>\n",
              "      <td>0</td>\n",
              "      <td>44.81</td>\n",
              "    </tr>\n",
              "    <tr>\n",
              "      <th>2015-07-08</th>\n",
              "      <td>Albany City</td>\n",
              "      <td>9   9 11081028</td>\n",
              "      <td>NYSDOT</td>\n",
              "      <td>1971</td>\n",
              "      <td>0</td>\n",
              "      <td>0</td>\n",
              "      <td>44.51</td>\n",
              "    </tr>\n",
              "    <tr>\n",
              "      <th>2015-10-14</th>\n",
              "      <td>Albany City</td>\n",
              "      <td>9 X</td>\n",
              "      <td>NYSDOT</td>\n",
              "      <td>1969</td>\n",
              "      <td>0</td>\n",
              "      <td>0</td>\n",
              "      <td>46.78</td>\n",
              "    </tr>\n",
              "    <tr>\n",
              "      <th>2015-05-07</th>\n",
              "      <td>Albany City</td>\n",
              "      <td>9W  9W11012007</td>\n",
              "      <td>NYSDOT</td>\n",
              "      <td>1966</td>\n",
              "      <td>0</td>\n",
              "      <td>0</td>\n",
              "      <td>49.34</td>\n",
              "    </tr>\n",
              "    <tr>\n",
              "      <th>...</th>\n",
              "      <td>...</td>\n",
              "      <td>...</td>\n",
              "      <td>...</td>\n",
              "      <td>...</td>\n",
              "      <td>...</td>\n",
              "      <td>...</td>\n",
              "      <td>...</td>\n",
              "    </tr>\n",
              "    <tr>\n",
              "      <th>2014-10-01</th>\n",
              "      <td>Starkey Town</td>\n",
              "      <td>14  14 66031018</td>\n",
              "      <td>NYSDOT</td>\n",
              "      <td>1998</td>\n",
              "      <td>1</td>\n",
              "      <td>1</td>\n",
              "      <td>16.74</td>\n",
              "    </tr>\n",
              "    <tr>\n",
              "      <th>2015-10-26</th>\n",
              "      <td>Starkey Town</td>\n",
              "      <td>CASTLE POINT ROAD</td>\n",
              "      <td>County</td>\n",
              "      <td>2005</td>\n",
              "      <td>1</td>\n",
              "      <td>1</td>\n",
              "      <td>10.81</td>\n",
              "    </tr>\n",
              "    <tr>\n",
              "      <th>2014-06-30</th>\n",
              "      <td>Starkey Town</td>\n",
              "      <td>GLENORA ROAD</td>\n",
              "      <td>County</td>\n",
              "      <td>1985</td>\n",
              "      <td>1</td>\n",
              "      <td>1</td>\n",
              "      <td>29.49</td>\n",
              "    </tr>\n",
              "    <tr>\n",
              "      <th>2015-04-27</th>\n",
              "      <td>Starkey Town</td>\n",
              "      <td>SOUTH GLENORA RD</td>\n",
              "      <td>County</td>\n",
              "      <td>1998</td>\n",
              "      <td>1</td>\n",
              "      <td>1</td>\n",
              "      <td>17.31</td>\n",
              "    </tr>\n",
              "    <tr>\n",
              "      <th>2014-06-10</th>\n",
              "      <td>Torrey Town</td>\n",
              "      <td>CR26 CITY HILL RD</td>\n",
              "      <td>County</td>\n",
              "      <td>1985</td>\n",
              "      <td>1</td>\n",
              "      <td>1</td>\n",
              "      <td>29.43</td>\n",
              "    </tr>\n",
              "  </tbody>\n",
              "</table>\n",
              "<p>16784 rows × 7 columns</p>\n",
              "</div>"
            ],
            "text/plain": [
              "                Municipality              Route  ... Condition  AgeAtInspection\n",
              "Date.Inspected                                   ...                           \n",
              "2014-09-04       Albany City                5 X  ...         1            46.67\n",
              "2015-10-27       Albany City     9   9 11081025  ...         0            44.81\n",
              "2015-07-08       Albany City     9   9 11081028  ...         0            44.51\n",
              "2015-10-14       Albany City                9 X  ...         0            46.78\n",
              "2015-05-07       Albany City     9W  9W11012007  ...         0            49.34\n",
              "...                      ...                ...  ...       ...              ...\n",
              "2014-10-01      Starkey Town    14  14 66031018  ...         1            16.74\n",
              "2015-10-26      Starkey Town  CASTLE POINT ROAD  ...         1            10.81\n",
              "2014-06-30      Starkey Town       GLENORA ROAD  ...         1            29.49\n",
              "2015-04-27      Starkey Town   SOUTH GLENORA RD  ...         1            17.31\n",
              "2014-06-10       Torrey Town  CR26 CITY HILL RD  ...         1            29.43\n",
              "\n",
              "[16784 rows x 7 columns]"
            ]
          },
          "metadata": {},
          "execution_count": 60
        }
      ]
    },
    {
      "cell_type": "code",
      "metadata": {
        "colab": {
          "base_uri": "https://localhost:8080/"
        },
        "id": "YpEl4zqgoNK8",
        "outputId": "1c8aaea9-2a7d-404a-e910-9a0a2ddfc053"
      },
      "source": [
        "df['Route'].value_counts()"
      ],
      "id": "YpEl4zqgoNK8",
      "execution_count": 61,
      "outputs": [
        {
          "output_type": "execute_result",
          "data": {
            "text/plain": [
              "90IX                 119\n",
              "87IX                  56\n",
              "MAIN STREET           42\n",
              "MILL STREET           33\n",
              "COUNTY ROAD 16        30\n",
              "                    ... \n",
              "FINE CNTN LSBN RD      1\n",
              "North Petersboro       1\n",
              "WEST233 STREET         1\n",
              "34  34 65011012        1\n",
              "RDWYITORAMPB C ER      1\n",
              "Name: Route, Length: 12317, dtype: int64"
            ]
          },
          "metadata": {},
          "execution_count": 61
        }
      ]
    },
    {
      "cell_type": "code",
      "metadata": {
        "colab": {
          "base_uri": "https://localhost:8080/"
        },
        "id": "zVTTl89p2G3Z",
        "outputId": "b448d702-261e-4177-e832-676fce052487"
      },
      "source": [
        "df['Condition'].value_counts()"
      ],
      "id": "zVTTl89p2G3Z",
      "execution_count": 62,
      "outputs": [
        {
          "output_type": "execute_result",
          "data": {
            "text/plain": [
              "1    10861\n",
              "0     5923\n",
              "Name: Condition, dtype: int64"
            ]
          },
          "metadata": {},
          "execution_count": 62
        }
      ]
    },
    {
      "cell_type": "code",
      "metadata": {
        "colab": {
          "base_uri": "https://localhost:8080/"
        },
        "id": "lFx671RtZAIC",
        "outputId": "0d553634-fd7f-4423-ad0e-ffa9423cba6b"
      },
      "source": [
        "df['SD.FO.Status'].value_counts()"
      ],
      "id": "lFx671RtZAIC",
      "execution_count": 63,
      "outputs": [
        {
          "output_type": "execute_result",
          "data": {
            "text/plain": [
              "1    10720\n",
              "0     6064\n",
              "Name: SD.FO.Status, dtype: int64"
            ]
          },
          "metadata": {},
          "execution_count": 63
        }
      ]
    },
    {
      "cell_type": "code",
      "metadata": {
        "colab": {
          "base_uri": "https://localhost:8080/"
        },
        "id": "JHHkJzHSV5VE",
        "outputId": "d99ce873-5364-48a2-dc6a-cc9f0199390a"
      },
      "source": [
        "here = df[(df['Condition']==1)]\n",
        "here = here.dropna()\n",
        "here['Owner'].value_counts()\n",
        "print(here['Owner'].value_counts()/df['Owner'].value_counts())"
      ],
      "id": "JHHkJzHSV5VE",
      "execution_count": 87,
      "outputs": [
        {
          "output_type": "stream",
          "name": "stdout",
          "text": [
            "Alleghany State Park Authority                                   0.666667\n",
            "Authority or Commission - Other                                  0.666667\n",
            "Central NY State Park Commission                                 1.000000\n",
            "City                                                             0.486250\n",
            "City of NY State Park Commission                                 0.666667\n",
            "County                                                           0.697026\n",
            "Federal (Other than those listed below)                               NaN\n",
            "Finger Lakes Parks and Recreation Commission                          NaN\n",
            "Genesee State Parks and Recreation Commission                    0.600000\n",
            "MTA Tunnels and Bridges (aka TBTA)                               0.276596\n",
            "Metropolitan Transportation Authority                            0.666667\n",
            "NYC Dept of Water Supply, Gas and Electric                       0.700000\n",
            "NYS Bridge Authority                                             0.222222\n",
            "NYS Dept of Environmental Conservation                           0.812500\n",
            "NYS Power Authority                                              0.714286\n",
            "NYS Thruway Authority                                            0.464052\n",
            "NYSDOT                                                           0.655760\n",
            "Nassau County Bridge Authority                                        NaN\n",
            "National Park Service                                            0.125000\n",
            "Niagara Falls Bridge Commission                                  1.000000\n",
            "Niagara Frontier State Park Commission                           0.807692\n",
            "Ogdensburg Bridge and Port Authority                                  NaN\n",
            "Other                                                            0.583333\n",
            "Palisades Interstate Park Commission                             0.580645\n",
            "Peace Bridge Authority (aka Buffalo And Ft. Erie Pub Br.Auth)         NaN\n",
            "Port Authority of NY and NJ                                      0.369369\n",
            "Private - Utility                                                     NaN\n",
            "Railroad                                                         0.637931\n",
            "Retired (Taconic State Park Commission)                          1.000000\n",
            "Seaway International Bridge Authority                                 NaN\n",
            "State - Other                                                    0.777778\n",
            "Thousand Islands Bridge Authority                                0.800000\n",
            "Town                                                             0.623116\n",
            "Transit Authority                                                0.833333\n",
            "Village                                                          0.488372\n",
            "Name: Owner, dtype: float64\n"
          ]
        }
      ]
    },
    {
      "cell_type": "code",
      "metadata": {
        "tags": [],
        "id": "bf46188c-be27-4546-b0c4-38eb55efeb39"
      },
      "source": [
        "model = ols('Condition ~ AgeAtInspection + Municipality', data=df).fit()\n",
        "\n",
        "print(model.summary())"
      ],
      "id": "bf46188c-be27-4546-b0c4-38eb55efeb39",
      "execution_count": null,
      "outputs": []
    },
    {
      "cell_type": "markdown",
      "metadata": {
        "id": "w4aD00x1rRv9"
      },
      "source": [
        "## I then proceeded to create my target variables as well as training variables.\n",
        "\n",
        "---\n",
        "\n"
      ],
      "id": "w4aD00x1rRv9"
    },
    {
      "cell_type": "code",
      "metadata": {
        "tags": [],
        "id": "aee9533c-f907-485a-a799-cc198ada5539"
      },
      "source": [
        "target = 'Condition'\n",
        "y = df['Condition']\n",
        "X = df.drop(columns=target)"
      ],
      "id": "aee9533c-f907-485a-a799-cc198ada5539",
      "execution_count": 89,
      "outputs": []
    },
    {
      "cell_type": "code",
      "metadata": {
        "id": "066edb1f-bb23-4f9c-94ab-3f203cec200e",
        "colab": {
          "base_uri": "https://localhost:8080/"
        },
        "outputId": "89c8b9d1-d767-42c5-bfe4-41dfe8c8b20d"
      },
      "source": [
        "print(X.shape)\n",
        "print(y.shape)"
      ],
      "id": "066edb1f-bb23-4f9c-94ab-3f203cec200e",
      "execution_count": 90,
      "outputs": [
        {
          "output_type": "stream",
          "name": "stdout",
          "text": [
            "(16784, 6)\n",
            "(16784,)\n"
          ]
        }
      ]
    },
    {
      "cell_type": "code",
      "metadata": {
        "id": "f5a8a765-67ce-4629-a9f0-373d76c78ee1",
        "colab": {
          "base_uri": "https://localhost:8080/"
        },
        "outputId": "84e4266a-c812-4dac-82a2-a55137a28353"
      },
      "source": [
        "X_train, X_val,y_train,y_val = train_test_split(X,y,random_state=42)\n",
        "print(X_train.shape)\n",
        "print(X_val.shape)\n",
        "print(y_train.shape)\n",
        "print(y_val.shape)"
      ],
      "id": "f5a8a765-67ce-4629-a9f0-373d76c78ee1",
      "execution_count": 92,
      "outputs": [
        {
          "output_type": "stream",
          "name": "stdout",
          "text": [
            "(12588, 6)\n",
            "(4196, 6)\n",
            "(12588,)\n",
            "(4196,)\n"
          ]
        }
      ]
    },
    {
      "cell_type": "markdown",
      "metadata": {
        "id": "ygbdsSx9rmXS"
      },
      "source": [
        "## I then made my baseline.\n",
        "\n",
        "---\n",
        "\n"
      ],
      "id": "ygbdsSx9rmXS"
    },
    {
      "cell_type": "code",
      "metadata": {
        "tags": [],
        "id": "ae953517-0968-43cd-ba6b-1c8012fdb302",
        "colab": {
          "base_uri": "https://localhost:8080/"
        },
        "outputId": "1d1b4ede-f597-4886-b746-bcd9d7138ea1"
      },
      "source": [
        "y_train.value_counts(normalize=True).max()\n"
      ],
      "id": "ae953517-0968-43cd-ba6b-1c8012fdb302",
      "execution_count": 93,
      "outputs": [
        {
          "output_type": "execute_result",
          "data": {
            "text/plain": [
              "0.6487130600571973"
            ]
          },
          "metadata": {},
          "execution_count": 93
        }
      ]
    },
    {
      "cell_type": "markdown",
      "metadata": {
        "id": "Nzbjwyb7rp5K"
      },
      "source": [
        "## We then made a logistic regression pipeline and printed the results.\n",
        "\n",
        "---\n",
        "\n"
      ],
      "id": "Nzbjwyb7rp5K"
    },
    {
      "cell_type": "code",
      "metadata": {
        "tags": [],
        "id": "d2be0b23-64fa-4579-92fb-350d4cb057d2",
        "colab": {
          "base_uri": "https://localhost:8080/"
        },
        "outputId": "a5b8ad23-bc7a-43bb-febc-24bbd3b04e34"
      },
      "source": [
        "model = make_pipeline(\n",
        "    OneHotEncoder(use_cat_names=True),\n",
        "    SimpleImputer(),\n",
        "    StandardScaler(), \n",
        "    LogisticRegression()\n",
        "\n",
        ")\n",
        "\n",
        "model.fit(X_train, y_train)"
      ],
      "id": "d2be0b23-64fa-4579-92fb-350d4cb057d2",
      "execution_count": 94,
      "outputs": [
        {
          "output_type": "execute_result",
          "data": {
            "text/plain": [
              "Pipeline(memory=None,\n",
              "         steps=[('onehotencoder',\n",
              "                 OneHotEncoder(cols=['Municipality', 'Route', 'Owner'],\n",
              "                               drop_invariant=False, handle_missing='value',\n",
              "                               handle_unknown='value', return_df=True,\n",
              "                               use_cat_names=True, verbose=0)),\n",
              "                ('simpleimputer',\n",
              "                 SimpleImputer(add_indicator=False, copy=True, fill_value=None,\n",
              "                               missing_values=nan, strategy='mean',\n",
              "                               verbose=0)),\n",
              "                ('standardscaler',\n",
              "                 StandardScaler(copy=True, with_mean=True, with_std=True)),\n",
              "                ('logisticregression',\n",
              "                 LogisticRegression(C=1.0, class_weight=None, dual=False,\n",
              "                                    fit_intercept=True, intercept_scaling=1,\n",
              "                                    l1_ratio=None, max_iter=100,\n",
              "                                    multi_class='auto', n_jobs=None,\n",
              "                                    penalty='l2', random_state=None,\n",
              "                                    solver='lbfgs', tol=0.0001, verbose=0,\n",
              "                                    warm_start=False))],\n",
              "         verbose=False)"
            ]
          },
          "metadata": {},
          "execution_count": 94
        }
      ]
    },
    {
      "cell_type": "code",
      "metadata": {
        "id": "dd1c73a2",
        "colab": {
          "base_uri": "https://localhost:8080/"
        },
        "outputId": "659470f3-2fcd-4b40-accd-457fde50c631"
      },
      "source": [
        "print('Training Accuracy', model.score(X_train,y_train))\n",
        "print('Validation Accuracy', model.score(X_val,y_val))"
      ],
      "id": "dd1c73a2",
      "execution_count": 95,
      "outputs": [
        {
          "output_type": "stream",
          "name": "stdout",
          "text": [
            "Training Accuracy 0.9764061010486177\n",
            "Validation Accuracy 0.6908960915157293\n"
          ]
        }
      ]
    },
    {
      "cell_type": "markdown",
      "metadata": {
        "id": "t4di_zwitMBp"
      },
      "source": [
        "## We then used the data and did a DecisionTreeClassifier also printing the results.\n",
        "\n",
        "---\n",
        "\n"
      ],
      "id": "t4di_zwitMBp"
    },
    {
      "cell_type": "code",
      "metadata": {
        "id": "nwgCSf5iGy97"
      },
      "source": [
        "model_dt = make_pipeline(\n",
        "    OrdinalEncoder(), \n",
        "    SimpleImputer(strategy='mean'),\n",
        "    DecisionTreeClassifier(random_state=42, max_depth=15)\n",
        ")\n",
        "\n",
        "model_dt.fit(X_train, y_train);"
      ],
      "id": "nwgCSf5iGy97",
      "execution_count": 96,
      "outputs": []
    },
    {
      "cell_type": "code",
      "metadata": {
        "colab": {
          "base_uri": "https://localhost:8080/"
        },
        "id": "-GJpOyzYG35f",
        "outputId": "3315a9d1-a7eb-47fe-82d2-c7d3285e53de"
      },
      "source": [
        "print('model_dt accuracy score for training', accuracy_score(y_train, model_dt.predict(X_train)))\n",
        "print('model_dt accuracy score for val', accuracy_score(y_val, model_dt.predict(X_val)))"
      ],
      "id": "-GJpOyzYG35f",
      "execution_count": 97,
      "outputs": [
        {
          "output_type": "stream",
          "name": "stdout",
          "text": [
            "model_dt accuracy score for training 0.8850492532570702\n",
            "model_dt accuracy score for val 0.6732602478551001\n"
          ]
        }
      ]
    },
    {
      "cell_type": "markdown",
      "metadata": {
        "id": "xdny6WRatUoV"
      },
      "source": [
        "##We then made a chart with the most important features.\n",
        "\n",
        "---\n",
        "\n"
      ],
      "id": "xdny6WRatUoV"
    },
    {
      "cell_type": "code",
      "metadata": {
        "colab": {
          "base_uri": "https://localhost:8080/",
          "height": 295
        },
        "id": "R87EW9qzHPJn",
        "outputId": "365b1129-5038-4662-d9bb-f0470b527ff1"
      },
      "source": [
        "features = model_dt.named_steps['ordinalencoder'].get_feature_names()\n",
        "gini = model_dt.named_steps['decisiontreeclassifier'].feature_importances_ \n",
        "pd.Series(data=gini, index=features).sort_values(key=abs).tail(10).plot(kind='barh')\n",
        "plt.ylabel('Features')\n",
        "plt.xlabel('Importance')"
      ],
      "id": "R87EW9qzHPJn",
      "execution_count": 98,
      "outputs": [
        {
          "output_type": "execute_result",
          "data": {
            "text/plain": [
              "Text(0.5, 0, 'Importance')"
            ]
          },
          "metadata": {},
          "execution_count": 98
        },
        {
          "output_type": "display_data",
          "data": {
            "image/png": "[encoded data removed]",
            "text/plain": [
              "<Figure size 432x288 with 1 Axes>"
            ]
          },
          "metadata": {
            "needs_background": "light"
          }
        }
      ]
    },
    {
      "cell_type": "markdown",
      "metadata": {
        "id": "rJChhzEtteNa"
      },
      "source": [
        "## We made another pipeline using the GridSearch method with randomforestclassifiers (Brute force). \n",
        "\n",
        "---\n",
        "\n"
      ],
      "id": "rJChhzEtteNa"
    },
    {
      "cell_type": "code",
      "metadata": {
        "colab": {
          "base_uri": "https://localhost:8080/"
        },
        "id": "ck2pl-ozHqbL",
        "outputId": "ad5b42a6-7195-4d24-8258-e91fb62ebe0f"
      },
      "source": [
        "clf = make_pipeline(\n",
        "    OrdinalEncoder(),\n",
        "    SimpleImputer(),\n",
        "    RandomForestClassifier(random_state=42, n_jobs=-1)\n",
        ")\n",
        "\n",
        "\n",
        "param_grid = {\n",
        "    'simpleimputer__strategy': ['mean', 'median'],\n",
        "    'randomforestclassifier__max_depth': range(6, 40, 6),\n",
        "    'randomforestclassifier__n_estimators': range(25, 125, 25)\n",
        "}\n",
        "\n",
        "model_rfgs = GridSearchCV(\n",
        "    clf,\n",
        "    param_grid = param_grid,\n",
        "    n_jobs=-1,\n",
        "    cv=6,\n",
        "    verbose=1 \n",
        ")\n",
        "\n",
        "model_rfgs.fit(X, y)"
      ],
      "id": "ck2pl-ozHqbL",
      "execution_count": 105,
      "outputs": [
        {
          "output_type": "stream",
          "name": "stdout",
          "text": [
            "Fitting 6 folds for each of 48 candidates, totalling 288 fits\n"
          ]
        },
        {
          "output_type": "stream",
          "name": "stderr",
          "text": [
            "[Parallel(n_jobs=-1)]: Using backend LokyBackend with 2 concurrent workers.\n",
            "[Parallel(n_jobs=-1)]: Done  46 tasks      | elapsed:   26.0s\n",
            "[Parallel(n_jobs=-1)]: Done 196 tasks      | elapsed:  2.7min\n",
            "[Parallel(n_jobs=-1)]: Done 288 out of 288 | elapsed:  4.3min finished\n"
          ]
        },
        {
          "output_type": "execute_result",
          "data": {
            "text/plain": [
              "GridSearchCV(cv=6, error_score=nan,\n",
              "             estimator=Pipeline(memory=None,\n",
              "                                steps=[('ordinalencoder',\n",
              "                                        OrdinalEncoder(cols=None,\n",
              "                                                       drop_invariant=False,\n",
              "                                                       handle_missing='value',\n",
              "                                                       handle_unknown='value',\n",
              "                                                       mapping=None,\n",
              "                                                       return_df=True,\n",
              "                                                       verbose=0)),\n",
              "                                       ('simpleimputer',\n",
              "                                        SimpleImputer(add_indicator=False,\n",
              "                                                      copy=True,\n",
              "                                                      fill_value=None,\n",
              "                                                      missing_values=nan,\n",
              "                                                      strategy='mean',\n",
              "                                                      verbose=0)),\n",
              "                                       ('ra...\n",
              "                                                               oob_score=False,\n",
              "                                                               random_state=42,\n",
              "                                                               verbose=0,\n",
              "                                                               warm_start=False))],\n",
              "                                verbose=False),\n",
              "             iid='deprecated', n_jobs=-1,\n",
              "             param_grid={'randomforestclassifier__max_depth': range(6, 40, 6),\n",
              "                         'randomforestclassifier__n_estimators': range(25, 125, 25),\n",
              "                         'simpleimputer__strategy': ['mean', 'median']},\n",
              "             pre_dispatch='2*n_jobs', refit=True, return_train_score=False,\n",
              "             scoring=None, verbose=1)"
            ]
          },
          "metadata": {},
          "execution_count": 105
        }
      ]
    },
    {
      "cell_type": "code",
      "metadata": {
        "colab": {
          "base_uri": "https://localhost:8080/"
        },
        "id": "3Xc1DQ0UIVAz",
        "outputId": "1d67f84e-2142-4a97-f8f1-00330b797bc3"
      },
      "source": [
        "print(model_rfgs.best_estimator_)"
      ],
      "id": "3Xc1DQ0UIVAz",
      "execution_count": 106,
      "outputs": [
        {
          "output_type": "stream",
          "name": "stdout",
          "text": [
            "Pipeline(memory=None,\n",
            "         steps=[('ordinalencoder',\n",
            "                 OrdinalEncoder(cols=['Municipality', 'Route', 'Owner'],\n",
            "                                drop_invariant=False, handle_missing='value',\n",
            "                                handle_unknown='value',\n",
            "                                mapping=[{'col': 'Municipality',\n",
            "                                          'data_type': dtype('O'),\n",
            "                                          'mapping': Albany City                1\n",
            "Berne Town                 2\n",
            "Bethlehem Town             3\n",
            "Coeymans Town              4\n",
            "Cohoes City                5\n",
            "                        ... \n",
            "Penn Yan Village (Pt    1355\n",
            "Potter Town             1356\n",
            "Starkey Town            1357\n",
            "Torrey To...\n",
            "                 RandomForestClassifier(bootstrap=True, ccp_alpha=0.0,\n",
            "                                        class_weight=None, criterion='gini',\n",
            "                                        max_depth=6, max_features='auto',\n",
            "                                        max_leaf_nodes=None, max_samples=None,\n",
            "                                        min_impurity_decrease=0.0,\n",
            "                                        min_impurity_split=None,\n",
            "                                        min_samples_leaf=1, min_samples_split=2,\n",
            "                                        min_weight_fraction_leaf=0.0,\n",
            "                                        n_estimators=50, n_jobs=-1,\n",
            "                                        oob_score=False, random_state=42,\n",
            "                                        verbose=0, warm_start=False))],\n",
            "         verbose=False)\n"
          ]
        }
      ]
    },
    {
      "cell_type": "markdown",
      "metadata": {
        "id": "Co1Hj3glvz5P"
      },
      "source": [
        "##I then performed a RandomizedSearchCV and got the results.\n",
        "\n",
        "---\n",
        "\n"
      ],
      "id": "Co1Hj3glvz5P"
    },
    {
      "cell_type": "code",
      "metadata": {
        "colab": {
          "base_uri": "https://localhost:8080/"
        },
        "id": "eY6LstPEHmru",
        "outputId": "4d8cc98a-72e6-425b-f049-3cc53ff23acd"
      },
      "source": [
        "model_rfrs = RandomizedSearchCV(\n",
        "    clf,\n",
        "    param_distributions = param_grid,\n",
        "    n_jobs=-1,\n",
        "    cv=7,\n",
        "    verbose=1,\n",
        "    n_iter = 8\n",
        ")\n",
        "\n",
        "model_rfrs.fit(X,y)"
      ],
      "id": "eY6LstPEHmru",
      "execution_count": 100,
      "outputs": [
        {
          "output_type": "stream",
          "name": "stdout",
          "text": [
            "Fitting 7 folds for each of 8 candidates, totalling 56 fits\n"
          ]
        },
        {
          "output_type": "stream",
          "name": "stderr",
          "text": [
            "[Parallel(n_jobs=-1)]: Using backend LokyBackend with 2 concurrent workers.\n",
            "[Parallel(n_jobs=-1)]: Done  46 tasks      | elapsed:   42.7s\n",
            "[Parallel(n_jobs=-1)]: Done  56 out of  56 | elapsed:   54.3s finished\n"
          ]
        },
        {
          "output_type": "execute_result",
          "data": {
            "text/plain": [
              "RandomizedSearchCV(cv=7, error_score=nan,\n",
              "                   estimator=Pipeline(memory=None,\n",
              "                                      steps=[('ordinalencoder',\n",
              "                                              OrdinalEncoder(cols=None,\n",
              "                                                             drop_invariant=False,\n",
              "                                                             handle_missing='value',\n",
              "                                                             handle_unknown='value',\n",
              "                                                             mapping=None,\n",
              "                                                             return_df=True,\n",
              "                                                             verbose=0)),\n",
              "                                             ('simpleimputer',\n",
              "                                              SimpleImputer(add_indicator=False,\n",
              "                                                            copy=True,\n",
              "                                                            fill_value=None,\n",
              "                                                            missing_values=nan,\n",
              "                                                            strategy='mean',\n",
              "                                                            verbose=0)...\n",
              "                                                                     verbose=0,\n",
              "                                                                     warm_start=False))],\n",
              "                                      verbose=False),\n",
              "                   iid='deprecated', n_iter=8, n_jobs=-1,\n",
              "                   param_distributions={'randomforestclassifier__max_depth': range(6, 40, 6),\n",
              "                                        'randomforestclassifier__n_estimators': range(25, 125, 25),\n",
              "                                        'simpleimputer__strategy': ['mean',\n",
              "                                                                    'median']},\n",
              "                   pre_dispatch='2*n_jobs', random_state=None, refit=True,\n",
              "                   return_train_score=False, scoring=None, verbose=1)"
            ]
          },
          "metadata": {},
          "execution_count": 100
        }
      ]
    },
    {
      "cell_type": "code",
      "metadata": {
        "colab": {
          "base_uri": "https://localhost:8080/"
        },
        "id": "bizQjrbUkzXL",
        "outputId": "9871afd3-b1b7-45b5-e5e5-2a7f44fc0bbc"
      },
      "source": [
        "print(model_rfrs.score(X_val,y_val))"
      ],
      "id": "bizQjrbUkzXL",
      "execution_count": 101,
      "outputs": [
        {
          "output_type": "stream",
          "name": "stdout",
          "text": [
            "0.7619161105815062\n"
          ]
        }
      ]
    },
    {
      "cell_type": "code",
      "metadata": {
        "colab": {
          "base_uri": "https://localhost:8080/"
        },
        "id": "rL4_Sz0wIfjo",
        "outputId": "b0586e2f-3f03-4e97-f075-30f11532147f"
      },
      "source": [
        "print(model_rfrs.best_params_)\n",
        "print(model_rfrs.best_score_)"
      ],
      "id": "rL4_Sz0wIfjo",
      "execution_count": 102,
      "outputs": [
        {
          "output_type": "stream",
          "name": "stdout",
          "text": [
            "{'simpleimputer__strategy': 'median', 'randomforestclassifier__n_estimators': 25, 'randomforestclassifier__max_depth': 6}\n",
            "0.7104981896579192\n"
          ]
        }
      ]
    },
    {
      "cell_type": "markdown",
      "metadata": {
        "id": "ZPJBBNWyyyd1"
      },
      "source": [
        "##We then set up the function for PDP plots and explored a little bit.\n",
        "\n",
        "---\n",
        "\n"
      ],
      "id": "ZPJBBNWyyyd1"
    },
    {
      "cell_type": "code",
      "metadata": {
        "id": "ibzdPEmuKv-F"
      },
      "source": [
        "feature = 'AgeAtInspection'\n",
        "\n",
        "isolated = pdp_isolate(\n",
        "    model=model_rfrs, \n",
        "    dataset=X_val, \n",
        "    model_features=X_val.columns, \n",
        "    feature=feature\n",
        ")"
      ],
      "id": "ibzdPEmuKv-F",
      "execution_count": 107,
      "outputs": []
    },
    {
      "cell_type": "code",
      "metadata": {
        "colab": {
          "base_uri": "https://localhost:8080/"
        },
        "id": "z5wx5Bo2HT-o",
        "outputId": "5f7fc9bb-6ae3-4d36-e94b-11d2f2e4cdd0"
      },
      "source": [
        "isolated.percentile_info"
      ],
      "id": "z5wx5Bo2HT-o",
      "execution_count": 108,
      "outputs": [
        {
          "output_type": "execute_result",
          "data": {
            "text/plain": [
              "array(['(0.0)', '(11.11)', '(22.22)', '(33.33)', '(44.44)', '(55.56)',\n",
              "       '(66.67)', '(77.78)', '(88.89)', '(100.0)'], dtype=object)"
            ]
          },
          "metadata": {},
          "execution_count": 108
        }
      ]
    },
    {
      "cell_type": "code",
      "metadata": {
        "colab": {
          "base_uri": "https://localhost:8080/"
        },
        "id": "y60ZkXNNHXBu",
        "outputId": "9e8256b9-9b60-4ab2-a3b7-de8d77294ac0"
      },
      "source": [
        "isolated.pdp"
      ],
      "id": "y60ZkXNNHXBu",
      "execution_count": 353,
      "outputs": [
        {
          "output_type": "execute_result",
          "data": {
            "text/plain": [
              "array([0.75185864, 0.75178311, 0.73301569, 0.66191956, 0.59950191,\n",
              "       0.5667928 , 0.53705099, 0.53381348, 0.51767308, 0.52356955])"
            ]
          },
          "metadata": {},
          "execution_count": 353
        }
      ]
    },
    {
      "cell_type": "code",
      "metadata": {
        "colab": {
          "base_uri": "https://localhost:8080/",
          "height": 577
        },
        "id": "h_p1Ra4ZHaGp",
        "outputId": "4d72420f-f968-4839-ffa9-0c2cbd200003"
      },
      "source": [
        "pdp_plot(isolated, feature_name=feature);"
      ],
      "id": "h_p1Ra4ZHaGp",
      "execution_count": 354,
      "outputs": [
        {
          "output_type": "display_data",
          "data": {
            "image/png": "[encoded data removed]",
            "text/plain": [
              "<Figure size 1080x684 with 2 Axes>"
            ]
          },
          "metadata": {
            "needs_background": "light"
          }
        }
      ]
    },
    {
      "cell_type": "code",
      "metadata": {
        "colab": {
          "base_uri": "https://localhost:8080/",
          "height": 577
        },
        "id": "GeDK09eCHy_5",
        "outputId": "d2ed22db-8f0c-414a-af84-cecb41fce8b2"
      },
      "source": [
        "feature = 'Built'\n",
        "\n",
        "isolated = pdp_isolate(\n",
        "    model=model_rfrs, \n",
        "    dataset=X_val, \n",
        "    model_features=X_val.columns, \n",
        "    feature=feature\n",
        ")\n",
        "\n",
        "pdp_plot(isolated, feature_name=feature);"
      ],
      "id": "GeDK09eCHy_5",
      "execution_count": 355,
      "outputs": [
        {
          "output_type": "display_data",
          "data": {
            "image/png": "[encoded data removed]",
            "text/plain": [
              "<Figure size 1080x684 with 2 Axes>"
            ]
          },
          "metadata": {
            "needs_background": "light"
          }
        }
      ]
    },
    {
      "cell_type": "code",
      "metadata": {
        "colab": {
          "base_uri": "https://localhost:8080/",
          "height": 581
        },
        "id": "LNoQSYPFp_Xz",
        "outputId": "d1fd7f76-52bd-4111-b494-76dddb821b32"
      },
      "source": [
        "features = ['AgeAtInspection', 'Built']\n",
        "\n",
        "\n",
        "interaction = pdp_interact(model_rfrs,dataset=df.dropna(),model_features=X_val.columns,features=features)\n",
        "pdp_interact_plot(interaction, plot_type='grid', feature_names=features);"
      ],
      "id": "LNoQSYPFp_Xz",
      "execution_count": 362,
      "outputs": [
        {
          "output_type": "display_data",
          "data": {
            "image/png": "[encoded data removed]",
            "text/plain": [
              "<Figure size 540x684 with 3 Axes>"
            ]
          },
          "metadata": {
            "needs_background": "light"
          }
        }
      ]
    },
    {
      "cell_type": "markdown",
      "metadata": {
        "id": "2-hCgyGKDMMt"
      },
      "source": [
        "##The we did an ROC plot curve with the different pipelines.\n",
        "\n",
        "---\n",
        "\n"
      ],
      "id": "2-hCgyGKDMMt"
    },
    {
      "cell_type": "code",
      "metadata": {
        "colab": {
          "base_uri": "https://localhost:8080/",
          "height": 278
        },
        "id": "waK6_CCOGTwN",
        "outputId": "84d00c9a-0519-47e3-be77-c47760633fb2"
      },
      "source": [
        "fig1 = plot_roc_curve(model_rfrs, X_val, y_val)\n",
        "fig2 = plot_roc_curve(model_dt, X_val, y_val, ax = fig1.ax_);"
      ],
      "id": "waK6_CCOGTwN",
      "execution_count": 356,
      "outputs": [
        {
          "output_type": "display_data",
          "data": {
            "image/png": "[encoded data removed]",
            "text/plain": [
              "<Figure size 432x288 with 1 Axes>"
            ]
          },
          "metadata": {
            "needs_background": "light"
          }
        }
      ]
    },
    {
      "cell_type": "code",
      "metadata": {
        "colab": {
          "base_uri": "https://localhost:8080/"
        },
        "id": "OPYIRAhIGkuw",
        "outputId": "830106f9-e0b6-4d9f-89a0-caab0809a3db"
      },
      "source": [
        "model_cr = classification_report(y_val, model_rfrs.predict(X_val))\n",
        "print(model_cr)"
      ],
      "id": "OPYIRAhIGkuw",
      "execution_count": 357,
      "outputs": [
        {
          "output_type": "stream",
          "name": "stdout",
          "text": [
            "              precision    recall  f1-score   support\n",
            "\n",
            "           0       0.69      0.61      0.65      1501\n",
            "           1       0.80      0.85      0.82      2695\n",
            "\n",
            "    accuracy                           0.76      4196\n",
            "   macro avg       0.74      0.73      0.74      4196\n",
            "weighted avg       0.76      0.76      0.76      4196\n",
            "\n"
          ]
        }
      ]
    },
    {
      "cell_type": "code",
      "metadata": {
        "id": "S8Yq9d6uXpoQ"
      },
      "source": [
        ""
      ],
      "id": "S8Yq9d6uXpoQ",
      "execution_count": null,
      "outputs": []
    }
  ]
}